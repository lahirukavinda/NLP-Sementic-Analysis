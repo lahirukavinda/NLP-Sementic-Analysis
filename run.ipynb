{
 "cells": [
  {
   "cell_type": "markdown",
   "id": "e21dd11e",
   "metadata": {},
   "source": [
    "### Followed \"Practical-7 Sentiment Analysis - Lab\"  and extracted few functions from there to complete this project"
   ]
  },
  {
   "cell_type": "code",
   "execution_count": 1,
   "id": "e2ed1305",
   "metadata": {},
   "outputs": [],
   "source": [
    "import nltk                                # Python library for NLP\n",
    "from nltk.corpus import twitter_samples    # sample Twitter dataset from NLTK\n",
    "import matplotlib.pyplot as plt            # library for visualization\n",
    "import random                              # pseudo-random number generator\n",
    "\n",
    "import numpy as np\n",
    "import pandas as pd\n",
    "\n",
    "import re                                  # library for regular expression operations\n",
    "import string                              # for string operations\n",
    "\n",
    "from nltk.corpus import stopwords          # module for stop words that come with NLTK\n",
    "from nltk.stem import PorterStemmer        # module for stemming\n",
    "from nltk.tokenize import TweetTokenizer   # module for tokenizing strings"
   ]
  },
  {
   "cell_type": "markdown",
   "id": "bc2e9375",
   "metadata": {},
   "source": [
    "### i. Collect 50 Twitter posts\n",
    "### ii. Classify those posts according to the impact on society as positive/ negative (1/0)"
   ]
  },
  {
   "cell_type": "code",
   "execution_count": 2,
   "id": "768c70dd",
   "metadata": {},
   "outputs": [
    {
     "data": {
      "text/html": [
       "<div>\n",
       "<style scoped>\n",
       "    .dataframe tbody tr th:only-of-type {\n",
       "        vertical-align: middle;\n",
       "    }\n",
       "\n",
       "    .dataframe tbody tr th {\n",
       "        vertical-align: top;\n",
       "    }\n",
       "\n",
       "    .dataframe thead th {\n",
       "        text-align: right;\n",
       "    }\n",
       "</style>\n",
       "<table border=\"1\" class=\"dataframe\">\n",
       "  <thead>\n",
       "    <tr style=\"text-align: right;\">\n",
       "      <th></th>\n",
       "      <th>tweet</th>\n",
       "      <th>label</th>\n",
       "    </tr>\n",
       "  </thead>\n",
       "  <tbody>\n",
       "    <tr>\n",
       "      <th>0</th>\n",
       "      <td>@AmericanAir thank you for quick responses.   ...</td>\n",
       "      <td>1</td>\n",
       "    </tr>\n",
       "    <tr>\n",
       "      <th>1</th>\n",
       "      <td>@AmericanAir I wait 2+ hrs for CS to call me b...</td>\n",
       "      <td>0</td>\n",
       "    </tr>\n",
       "    <tr>\n",
       "      <th>2</th>\n",
       "      <td>@AmericanAir I can't even get on the phone wit...</td>\n",
       "      <td>0</td>\n",
       "    </tr>\n",
       "    <tr>\n",
       "      <th>3</th>\n",
       "      <td>@AmericanAir Hmm. Looks like you looked at my ...</td>\n",
       "      <td>1</td>\n",
       "    </tr>\n",
       "    <tr>\n",
       "      <th>4</th>\n",
       "      <td>@americanair @bershawnjackson big UPS to Newar...</td>\n",
       "      <td>1</td>\n",
       "    </tr>\n",
       "  </tbody>\n",
       "</table>\n",
       "</div>"
      ],
      "text/plain": [
       "                                               tweet  label\n",
       "0  @AmericanAir thank you for quick responses.   ...      1\n",
       "1  @AmericanAir I wait 2+ hrs for CS to call me b...      0\n",
       "2  @AmericanAir I can't even get on the phone wit...      0\n",
       "3  @AmericanAir Hmm. Looks like you looked at my ...      1\n",
       "4  @americanair @bershawnjackson big UPS to Newar...      1"
      ]
     },
     "execution_count": 2,
     "metadata": {},
     "output_type": "execute_result"
    }
   ],
   "source": [
    "df  = pd.read_csv(\"dataset.csv\")\n",
    "df.head()"
   ]
  },
  {
   "cell_type": "code",
   "execution_count": 3,
   "id": "aefae5b9",
   "metadata": {},
   "outputs": [
    {
     "data": {
      "text/plain": [
       "([\"@AmericanAir thank you for quick responses.   #aa usually has fantastic customer service. That's why I was so shocked when it wasn't there\",\n",
       "  '@AmericanAir I wait 2+ hrs for CS to call me back re why  flt is cxld/protection &amp; they hang up the minute I answer on 1st ring?',\n",
       "  \"@AmericanAir I can't even get on the phone with your reservations team. The system automatically disconnects us.\",\n",
       "  '@AmericanAir Hmm. Looks like you looked at my tweet from last month, not this one. Was able to get U.K. agent to help me, thanks.',\n",
       "  '@americanair @bershawnjackson big UPS to Newark airport staff &amp;&amp; D.Dean. I was also treated lovely while I was in town. ❤❤'],\n",
       " array([1, 0, 0, 1, 1], dtype=int64))"
      ]
     },
     "execution_count": 3,
     "metadata": {},
     "output_type": "execute_result"
    }
   ],
   "source": [
    "tweets = df['tweet'].to_list()\n",
    "\n",
    "labels = df['label'].to_numpy()\n",
    "\n",
    "tweets[:5], labels[:5]"
   ]
  },
  {
   "cell_type": "code",
   "execution_count": 4,
   "id": "b0b65090",
   "metadata": {},
   "outputs": [
    {
     "name": "stdout",
     "output_type": "stream",
     "text": [
      "Number of positive tweets:  25\n",
      "Number of negative tweets:  25\n"
     ]
    }
   ],
   "source": [
    "pos = np.count_nonzero(labels==1)\n",
    "print('Number of positive tweets: ', pos)\n",
    "print('Number of negative tweets: ', len(labels) - pos)"
   ]
  },
  {
   "cell_type": "code",
   "execution_count": 5,
   "id": "32b56686",
   "metadata": {},
   "outputs": [],
   "source": [
    "def process_tweet(tweet):\n",
    "    \"\"\"Process tweet function.\n",
    "    Input:\n",
    "        tweet: a string containing a tweet\n",
    "    Output:\n",
    "        tweets_clean: a list of words containing the processed tweet\n",
    "\n",
    "    \"\"\"\n",
    "    stemmer = PorterStemmer()\n",
    "    stopwords_english = stopwords.words('english')\n",
    "    \n",
    "    # remove stock market tickers like $GE\n",
    "    tweet = re.sub(r'\\$\\w*', '', tweet)\n",
    "    \n",
    "    # remove old style retweet text \"RT\"\n",
    "    tweet = re.sub(r'^RT[\\s]+', '', tweet)\n",
    "    \n",
    "    # remove hyperlinks\n",
    "    tweet = re.sub(r'https?:\\/\\/.*[\\r\\n]*', '', tweet)\n",
    "    \n",
    "    # remove hashtags\n",
    "    # only removing the hash # sign from the word\n",
    "    tweet = re.sub(r'#', '', tweet)\n",
    "    \n",
    "    # tokenize tweets\n",
    "    tokenizer = TweetTokenizer(preserve_case=False, strip_handles=True,\n",
    "                               reduce_len=True)\n",
    "    tweet_tokens = tokenizer.tokenize(tweet)\n",
    "\n",
    "    tweets_clean = []\n",
    "    for word in tweet_tokens:\n",
    "        if (word not in stopwords_english and  # remove stopwords\n",
    "            \n",
    "                word not in string.punctuation):  # remove punctuation\n",
    "            \n",
    "            # tweets_clean.append(word)\n",
    "            stem_word = stemmer.stem(word)  # stemming word\n",
    "            \n",
    "            tweets_clean.append(stem_word)\n",
    "\n",
    "    return tweets_clean\n",
    "\n",
    "def count_tweets(result, tweets, ys):\n",
    "    '''\n",
    "    Input:\n",
    "        result: a dictionary that will be used to map each pair to its frequency\n",
    "        tweets: a list of tweets\n",
    "        ys: a list corresponding to the sentiment of each tweet (either 0 or 1)\n",
    "    Output:\n",
    "        result: a dictionary mapping each pair to its frequency\n",
    "    '''\n",
    "    for y, tw in zip(ys, tweets):\n",
    "        for word in process_tweet(tw):\n",
    "            pair = (word, y)\n",
    "            if(pair in result):\n",
    "                result[pair] += 1\n",
    "            else:\n",
    "                result[pair] = 1\n",
    "\n",
    "    return result"
   ]
  },
  {
   "cell_type": "code",
   "execution_count": 6,
   "id": "53d9480c",
   "metadata": {},
   "outputs": [],
   "source": [
    "train_x, test_x = tweets[:40], tweets[40:]\n",
    "train_y, test_y = labels[:40], labels[40:]"
   ]
  },
  {
   "cell_type": "code",
   "execution_count": 7,
   "id": "9fcdc6ef",
   "metadata": {},
   "outputs": [],
   "source": [
    "# Build the freqs dictionary \n",
    "freqs = count_tweets({}, train_x, train_y)"
   ]
  },
  {
   "cell_type": "code",
   "execution_count": 8,
   "id": "fcb0e20f",
   "metadata": {},
   "outputs": [
    {
     "name": "stdout",
     "output_type": "stream",
     "text": [
      "{('thank', 1): 10, ('quick', 1): 2, ('respons', 1): 3, ('aa', 1): 1, ('usual', 1): 1, ('fantast', 1): 1, ('custom', 1): 5, ('servic', 1): 5, (\"that'\", 1): 1, ('shock', 1): 1, ('wait', 0): 2, ('2', 0): 2, ('hr', 0): 2, ('cs', 0): 1, ('call', 0): 5, ('back', 0): 2, ('flt', 0): 1, ('cxld', 0): 1, ('protect', 0): 1, ('hang', 0): 1, ('minut', 0): 1, ('answer', 0): 2, ('1st', 0): 1, ('ring', 0): 1, (\"can't\", 0): 2, ('even', 0): 3, ('get', 0): 2, ('phone', 0): 3, ('reserv', 0): 2, ('team', 0): 1, ('system', 0): 1, ('automat', 0): 1, ('disconnect', 0): 1, ('us', 0): 2, ('hmm', 1): 1, ('look', 1): 2, ('like', 1): 1, ('tweet', 1): 1, ('last', 1): 1, ('month', 1): 1, ('one', 1): 1, ('abl', 1): 3, ('get', 1): 1, ('u', 1): 1, ('k', 1): 1, ('agent', 1): 1, ('help', 1): 3, ('big', 1): 2, ('up', 1): 1, ('newark', 1): 1, ('airport', 1): 1, ('staff', 1): 2, ('d.dean', 1): 1, ('also', 1): 1, ('treat', 1): 1, ('love', 1): 3, ('town', 1): 1, ('❤', 1): 2, ('fa', 1): 2, ('shawn', 1): 1, ('spectacular', 1): 1, ('flt', 1): 1, ('79', 1): 1, ('lhrdfw', 1): 1, ('susan', 1): 1, ('warm', 1): 1, ('engag', 1): 1, ('onboard', 1): 1, ('welcom', 1): 1, ('cancel', 0): 3, ('flightl', 0): 1, (\"wife'\", 0): 1, ('flight', 0): 11, ('servic', 0): 2, ('let', 0): 1, ('go', 0): 1, ('7', 0): 1, ('hour', 0): 2, ('shout-out', 1): 1, ('ground', 1): 2, ('crew', 1): 2, ('work', 1): 4, ('cold', 1): 1, (\"y'all\", 1): 1, ('social', 1): 1, ('media', 1): 1, ('team', 1): 1, ('give', 0): 4, ('option', 0): 1, ('hold', 0): 1, ('..', 0): 1, ('say', 0): 1, ('line', 0): 1, ('busi', 0): 1, ('plz', 0): 1, ('tri', 0): 1, ('late', 0): 2, ('flightr', 0): 1, ('ye', 1): 1, ('check', 1): 2, ('cramp', 1): 1, ('got', 1): 2, ('made', 1): 1, ('safe', 1): 1, ('fli', 1): 1, ('back', 1): 1, ('tomorrow', 1): 1, ('1pm', 1): 1, ('number', 0): 2, ('find', 0): 2, ('ticket', 1): 1, ('purchas', 1): 1, ('happi', 1): 2, (';-)', 1): 1, ('stink', 0): 1, ('psp', 0): 1, ('jfk', 0): 1, ('notif', 0): 1, ('abil', 0): 1, ('rebook', 0): 2, ('disappoint', 0): 2, ('expect', 0): 1, ('better', 0): 1, ('guy', 1): 1, ('sweet', 1): 1, ('rout', 1): 1, ('rocki', 1): 1, ('airplanemodewason', 1): 1, ('lost', 0): 3, ('luggag', 0): 1, ('4', 0): 1, ('day', 0): 5, ('ago', 0): 1, ('vx', 0): 1, ('112', 0): 1, ('lax', 0): 1, ('iad', 0): 1, (\"i'm\", 0): 1, ('everi', 0): 1, ('response.pleas', 0): 1, ('stuff', 0): 1, ('deepli', 0): 1, ('birthday', 0): 1, ('promo', 0): 1, ('appli', 0): 1, ('trip', 0): 1, ('book', 0): 1, ('mere', 0): 1, ('receiv', 0): 1, ('email', 0): 1, ('good', 1): 2, ('home', 1): 2, ('texa', 1): 1, ('moodlight', 1): 1, ('danc', 1): 1, ('littl', 1): 2, ('richard', 1): 1, ('cool', 1): 1, ('bean', 1): 1, ('voucher', 0): 1, ('given', 0): 1, ('miami', 0): 1, ('aeroport', 0): 1, ('jan', 0): 1, ('26', 0): 1, ('use', 0): 1, ('wow', 1): 1, ('deal', 1): 1, ('30', 1): 1, ('plu', 1): 1, ('seat', 1): 1, ('avail', 1): 1, ('easi', 1): 1, ('chang', 1): 1, ('make', 1): 1, ('abl', 0): 1, ('dm', 0): 1, ('confirm', 0): 1, ('delayed-no', 0): 1, ('one', 0): 2, ('rememb', 0): 1, ('turn', 0): 1, ('heat', 0): 1, ('559', 0): 1, ('leav', 0): 1, ('ord-seri', 0): 1, ('32', 0): 1, ('peopl', 0): 1, ('pretti', 0): 1, ('tire', 0): 1, ('action', 0): 1, ('solv', 0): 1, ('problem', 0): 2, ('plu', 0): 1, ('miss', 0): 2, ('vacat', 0): 1, ('ski', 0): 1, ('ms', 1): 1, ('winston', 1): 1, ('assist', 1): 1, ('phone', 1): 1, ('baggag', 1): 1, ('claim', 1): 1, ('issu', 1): 1, ('today', 1): 1, ('realli', 1): 1, ('went', 1): 2, ('extra', 1): 1, ('mile', 1): 1, ('nope', 0): 1, ('still', 0): 2, ('help', 0): 4, ('unit', 0): 2, ('badservic', 0): 1, ('great', 1): 1, (\"i'm\", 1): 1, ('readi', 1): 1, ('go', 1): 1, ('alreadi', 0): 1, ('done', 0): 1, ('got', 0): 1, ('...', 0): 1, ('oop', 0): 1, ('mile', 0): 1, (\"we'r\", 0): 1, ('sorri', 0): 1, ('pay', 0): 1, ('discomfort', 0): 1, ('9', 0): 1, ('h', 0): 1, ('solv', 1): 1, ('final', 1): 1, ('pick', 1): 1, ('second', 1): 1, ('time', 1): 1, ('call', 1): 1, ('jh', 1): 1, ('7:21', 1): 1, ('dull', 1): 1, ('flew', 1): 1, ('sdf', 1): 1, ('atl', 1): 1, ('tampa', 1): 1, ('delta', 1): 1, ('left', 1): 1, ('earli', 1): 2, ('arriv', 1): 1, ('wifi', 1): 1, ('send', 1): 1, ('dm', 1): 1, ('bag', 0): 1, ('never', 0): 1, ('ever', 0): 1, ('fli', 0): 2, ('joke', 0): 1, ('wanna', 1): 1, ('ride', 1): 1, ('unit', 1): 1, ('airlin', 1): 1, ('airplan', 1): 1, ('rather', 1): 1, ('effici', 1): 1, ('us', 1): 1, ('solut', 1): 1, ('freak', 1): 1, ('limbo', 1): 1, ('air', 1): 1, ('ua', 0): 1, ('1580', 0): 1, ('found', 0): 1, ('hotel', 0): 1, ('taxi', 0): 1, ('need', 0): 1, ('hung', 0): 1, ('twice', 0): 1, ('custom', 0): 1, ('rep', 0): 3, ('said', 0): 1, ('way', 0): 2, ('gate', 0): 1, ('ktm', 0): 1, ('due', 0): 1, ('ur', 0): 1, ('flightlat', 0): 1, ('mike', 0): 1, ('supervisor', 0): 1, ('disgust', 0): 1, ('apolog', 0): 1, ('upgrad', 0): 1, ('offer', 0): 1, ('lhr', 0): 1, ('ord', 0): 1, ('resolv', 1): 1, ('hour', 1): 1, ('somehow', 1): 1, ('system', 1): 1, ('reset', 1): 1, ('takeoff', 1): 1, ('appreci', 1): 1, ('kiosk', 1): 1, ('still', 1): 1, ('follow', 1): 1, ('la', 0): 1, ('stuck', 0): 1, ('dia', 0): 1, ('sat', 0): 1, ('plane', 0): 1, ('updat', 0): 1, ('delay', 0): 1, ('salt', 0): 1, ('floor', 0): 1, ('previou', 0): 1, ('passeng', 0): 1, ('180', 0): 1, ('want', 0): 1, ('care', 0): 1, ('shoe', 0): 1, ('ua649', 0): 1}\n"
     ]
    }
   ],
   "source": [
    "print(freqs)"
   ]
  },
  {
   "cell_type": "markdown",
   "id": "ecf22c6f",
   "metadata": {},
   "source": [
    "### iii. Propose a model to classify a new post as socially influenced post or not\n",
    "\n",
    "### Naive Bayes Model"
   ]
  },
  {
   "cell_type": "code",
   "execution_count": 9,
   "id": "753b98a0",
   "metadata": {},
   "outputs": [],
   "source": [
    "def train_naive_bayes(freqs, train_x, train_y):\n",
    "    '''\n",
    "    Input:\n",
    "        freqs: dictionary from (word, label) to how often the word appears\n",
    "        train_x: a list of tweets\n",
    "        train_y: a list of labels correponding to the tweets (0,1)\n",
    "    Output:\n",
    "        logprior: the log prior. (equation 3 above)\n",
    "        loglikelihood: the log likelihood of you Naive bayes equation.\n",
    "    '''\n",
    "    loglikelihood = {}\n",
    "    logprior = 0\n",
    "\n",
    "    # calculate V, the number of unique words in the vocabulary\n",
    "    vocab = set([pair[0] for pair in freqs.keys()])\n",
    "    V = len(vocab)\n",
    "\n",
    "    # calculate N_pos, N_neg, V_pos, V_neg\n",
    "    N_pos = N_neg = V_pos = V_neg = 0\n",
    "    \n",
    "    for pair in freqs.keys():\n",
    "        # if the label is positive (greater than zero)\n",
    "        if pair[1] > 0:\n",
    "            # increment the count of unique positive words by 1\n",
    "            V_pos += 1\n",
    "\n",
    "            # Increment the number of positive words by the count for this (word, label) pair\n",
    "            N_pos += freqs[pair]\n",
    "\n",
    "        # else, the label is negative\n",
    "        else:\n",
    "            # increment the count of unique negative words by 1\n",
    "            V_neg += 1\n",
    "\n",
    "            # increment the number of negative words by the count for this (word,label) pair\n",
    "            N_neg += freqs[pair]\n",
    "\n",
    "    # Calculate D, the number of documents\n",
    "    D = len(train_y)\n",
    "\n",
    "    # Calculate D_pos, the number of positive documents\n",
    "    D_pos = (len(list(filter(lambda x: x > 0, train_y))))\n",
    "\n",
    "    # Calculate D_neg, the number of negative documents\n",
    "    D_neg = (len(list(filter(lambda x: x <= 0, train_y))))\n",
    "\n",
    "    # Calculate logprior\n",
    "    logprior = np.log(D_pos) - np.log(D_neg)\n",
    "\n",
    "    # For each word in the vocabulary...\n",
    "    for word in vocab:\n",
    "        # get the positive and negative frequency of the word\n",
    "        freq_pos = lookup(freqs,word,1)\n",
    "        freq_neg = lookup(freqs,word,0)\n",
    "\n",
    "        # calculate the probability that each word is positive, and negative\n",
    "        p_w_pos = (freq_pos + 1) / (N_pos + V)\n",
    "        p_w_neg = (freq_neg + 1) / (N_neg + V)\n",
    "\n",
    "        # calculate the log likelihood of the word\n",
    "        loglikelihood[word] = np.log(p_w_pos/p_w_neg)\n",
    "\n",
    "    return logprior, loglikelihood\n",
    "\n",
    "def lookup(freqs, word, label):\n",
    "    '''\n",
    "    Input:\n",
    "        freqs: a dictionary with the frequency of each pair (or tuple)\n",
    "        word: the word to look up\n",
    "        label: the label corresponding to the word\n",
    "    Output:\n",
    "        n: the number of times the word with its corresponding label appears.\n",
    "    '''\n",
    "    n = 0  # freqs.get((word, label), 0)\n",
    "\n",
    "    pair = (word, label)\n",
    "    if(pair in freqs):\n",
    "        n = freqs[pair]\n",
    "\n",
    "    return n"
   ]
  },
  {
   "cell_type": "code",
   "execution_count": 10,
   "id": "e0a17b68",
   "metadata": {},
   "outputs": [
    {
     "name": "stdout",
     "output_type": "stream",
     "text": [
      "0.0\n",
      "294\n"
     ]
    }
   ],
   "source": [
    "logprior, loglikelihood = train_naive_bayes(freqs, train_x, train_y)\n",
    "\n",
    "print(logprior)\n",
    "print(len(loglikelihood))"
   ]
  },
  {
   "cell_type": "markdown",
   "id": "08701052",
   "metadata": {},
   "source": [
    "### iv. Evaluate the performance of propsed model"
   ]
  },
  {
   "cell_type": "code",
   "execution_count": 11,
   "id": "637788d0",
   "metadata": {},
   "outputs": [],
   "source": [
    "def naive_bayes_predict(tweet, logprior, loglikelihood):\n",
    "    '''\n",
    "    Input:\n",
    "        tweet: a string\n",
    "        logprior: a number\n",
    "        loglikelihood: a dictionary of words mapping to numbers\n",
    "    Output:\n",
    "        p: the sum of all the logliklihoods of each word in the tweet (if found in the dictionary) + logprior (a number)\n",
    "\n",
    "    '''\n",
    "    # process the tweet to get a list of words\n",
    "    word_l = process_tweet(tweet)\n",
    "\n",
    "    # initialize probability to zero\n",
    "    p = 0\n",
    "\n",
    "    # add the logprior\n",
    "    p += logprior\n",
    "\n",
    "    for word in word_l:\n",
    "\n",
    "        # check if the word exists in the loglikelihood dictionary\n",
    "        if word in loglikelihood:\n",
    "            # add the log likelihood of that word to the probability\n",
    "            p += loglikelihood[word]\n",
    "\n",
    "    return p\n",
    "\n",
    "def test_naive_bayes(test_x, test_y, logprior, loglikelihood):\n",
    "    \"\"\"\n",
    "    Input:\n",
    "        test_x: A list of tweets\n",
    "        test_y: the corresponding labels for the list of tweets\n",
    "        logprior: the logprior\n",
    "        loglikelihood: a dictionary with the loglikelihoods for each word\n",
    "    Output:\n",
    "        accuracy: (# of tweets classified correctly)/(total # of tweets)\n",
    "    \"\"\"\n",
    "    accuracy = 0  # return this properly\n",
    "\n",
    "    y_hats = []\n",
    "    for tweet in test_x:\n",
    "        # if the prediction is > 0\n",
    "        if naive_bayes_predict(tweet, logprior, loglikelihood) > 0:\n",
    "            # the predicted class is 1\n",
    "            y_hat_i = 1\n",
    "        else:\n",
    "            # otherwise the predicted class is 0\n",
    "            y_hat_i = 0\n",
    "\n",
    "        # append the predicted class to the list y_hats\n",
    "        y_hats.append(y_hat_i)\n",
    "\n",
    "    # error is the average of the absolute values of the differences between y_hats and test_y\n",
    "    error = np.mean(np.abs(y_hats - test_y))\n",
    "\n",
    "    # Accuracy is 1 minus the error\n",
    "    accuracy = 1 - error\n",
    "\n",
    "    return accuracy"
   ]
  },
  {
   "cell_type": "code",
   "execution_count": 12,
   "id": "b6cf67a8",
   "metadata": {},
   "outputs": [
    {
     "name": "stdout",
     "output_type": "stream",
     "text": [
      "Naive Bayes accuracy = 0.8000\n"
     ]
    }
   ],
   "source": [
    "print(\"Naive Bayes accuracy = %0.4f\" % (test_naive_bayes(test_x, test_y, logprior, loglikelihood)))"
   ]
  },
  {
   "cell_type": "code",
   "execution_count": 13,
   "id": "d21376a3",
   "metadata": {},
   "outputs": [
    {
     "name": "stdout",
     "output_type": "stream",
     "text": [
      "The expected output is -3.046924453362179\n"
     ]
    }
   ],
   "source": [
    "# Experiment with your own tweet.\n",
    "my_tweet = 'Flight was delayed.'\n",
    "p = naive_bayes_predict(my_tweet, logprior, loglikelihood)\n",
    "print('The expected output is', p)"
   ]
  },
  {
   "cell_type": "code",
   "execution_count": 14,
   "id": "4c18303b",
   "metadata": {},
   "outputs": [
    {
     "name": "stdout",
     "output_type": "stream",
     "text": [
      "4.386348807505076\n"
     ]
    }
   ],
   "source": [
    "my_tweet = 'I was happy about the service. Thank you :)'\n",
    "p = naive_bayes_predict(my_tweet, logprior, loglikelihood)\n",
    "print(p)"
   ]
  }
 ],
 "metadata": {
  "kernelspec": {
   "display_name": "Python 3 (ipykernel)",
   "language": "python",
   "name": "python3"
  },
  "language_info": {
   "codemirror_mode": {
    "name": "ipython",
    "version": 3
   },
   "file_extension": ".py",
   "mimetype": "text/x-python",
   "name": "python",
   "nbconvert_exporter": "python",
   "pygments_lexer": "ipython3",
   "version": "3.10.0"
  }
 },
 "nbformat": 4,
 "nbformat_minor": 5
}
